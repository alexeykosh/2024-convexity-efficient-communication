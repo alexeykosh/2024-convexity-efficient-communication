{
 "cells": [
  {
   "cell_type": "code",
   "execution_count": 215,
   "metadata": {},
   "outputs": [],
   "source": [
    "import numpy as np\n",
    "from scipy.spatial import distance\n",
    "from collections import defaultdict\n",
    "import pandas as pd\n",
    "import seaborn as sns\n",
    "import matplotlib.pyplot as plt\n",
    "from scipy.spatial import ConvexHull\n",
    "import math\n",
    "\n",
    "\n",
    "np.seterr(divide='ignore', invalid='ignore')\n",
    "\n",
    "NOISE = 1e-20"
   ]
  },
  {
   "cell_type": "code",
   "execution_count": 216,
   "metadata": {},
   "outputs": [
    {
     "name": "stdout",
     "output_type": "stream",
     "text": [
      "Degrees of Convexity: [0.8432291666666667, 0.8432291666666667, 0.8381696428571428, 0.7885416666666667, 0.8402777777777777]\n"
     ]
    }
   ],
   "source": [
    "def point_in_hull(point, hull):\n",
    "    '''\n",
    "    Check if a point is inside the convex hull.\n",
    "    '''\n",
    "    return all((np.dot(eq[:-1], point) + eq[-1] <= 0) for eq in hull.equations)\n",
    "\n",
    "def degree_of_convexity_cluster(cluster_points):\n",
    "    '''\n",
    "    Build the convex hull around cluster. \n",
    "    Find the number of points in the hull. \n",
    "    Divide the number of points in the class \n",
    "    by the number of points inside the hull\n",
    "    '''\n",
    "    if len(cluster_points) < 4:\n",
    "        return 1\n",
    "    else:\n",
    "        hull = ConvexHull(cluster_points)\n",
    "        in_hull = [p for p in cluster_points if point_in_hull(p, hull)]\n",
    "        return len(in_hull) / (len(cluster_points) + 1)\n",
    "\n",
    "def degree_of_convexity(arrays):\n",
    "    '''Compute the degree of convexity for the given array or arrays'''\n",
    "    convexity_list = []\n",
    "    for arr in arrays:\n",
    "        labels = np.unique(arr)  # Get unique labels\n",
    "        convexities = [degree_of_convexity_cluster(np.argwhere(arr == label)) for label in labels]\n",
    "        weights = [np.sum(arr == label) for label in labels]\n",
    "        convexity = np.average(convexities, weights=weights)\n",
    "        convexity_list.append(convexity)\n",
    "    return convexity_list\n",
    "\n",
    "# Given arrays\n",
    "arrays = np.array([[[2, 2, 2, 0],\n",
    "                    [1, 0, 0, 2],\n",
    "                    [0, 2, 2, 1],\n",
    "                    [0, 1, 1, 2]],\n",
    "\n",
    "                   [[1, 2, 1, 0],\n",
    "                    [2, 0, 2, 2],\n",
    "                    [2, 0, 1, 0],\n",
    "                    [2, 1, 1, 2]],\n",
    "\n",
    "                   [[1, 2, 2, 2],\n",
    "                    [1, 2, 1, 1],\n",
    "                    [1, 2, 0, 0],\n",
    "                    [2, 2, 0, 1]],\n",
    "\n",
    "                   [[0, 1, 2, 0],\n",
    "                    [1, 2, 1, 1],\n",
    "                    [0, 2, 2, 1],\n",
    "                    [0, 1, 2, 1]],\n",
    "\n",
    "                   [[2, 1, 2, 2],\n",
    "                    [0, 2, 2, 1],\n",
    "                    [0, 2, 0, 0],\n",
    "                    [0, 2, 1, 2]]])\n",
    "\n",
    "convexities = degree_of_convexity(arrays)\n",
    "print(\"Degrees of Convexity:\", convexities)"
   ]
  },
  {
   "cell_type": "code",
   "execution_count": 217,
   "metadata": {},
   "outputs": [],
   "source": [
    "def calculate_upper_bound(N, shape):\n",
    "    total_elements = np.prod(shape)\n",
    "    return min(N**total_elements, N ** max(0, total_elements - N + 1))\n"
   ]
  },
  {
   "cell_type": "code",
   "execution_count": 218,
   "metadata": {},
   "outputs": [],
   "source": [
    "def generate_lexicons(N, shape, n):\n",
    "    total_elements = np.prod(shape)\n",
    "    upper_bound = min(N**total_elements, N ** max(0, total_elements - N + 1))\n",
    "    lexicons = set()\n",
    "\n",
    "    while len(lexicons) < min(n, upper_bound):\n",
    "        lexicon = tuple(map(tuple, np.random.randint(0, N, shape)))\n",
    "        lexicons.add(lexicon)\n",
    "\n",
    "    return np.array([list(lexicon) for lexicon in lexicons])"
   ]
  },
  {
   "cell_type": "code",
   "execution_count": 219,
   "metadata": {},
   "outputs": [
    {
     "data": {
      "text/plain": [
       "array([[[4, 3, 1],\n",
       "        [4, 5, 4],\n",
       "        [8, 8, 4]],\n",
       "\n",
       "       [[3, 4, 6],\n",
       "        [1, 7, 4],\n",
       "        [6, 8, 6]],\n",
       "\n",
       "       [[3, 1, 4],\n",
       "        [6, 4, 3],\n",
       "        [5, 7, 2]],\n",
       "\n",
       "       [[6, 0, 5],\n",
       "        [8, 0, 7],\n",
       "        [1, 6, 7]],\n",
       "\n",
       "       [[2, 3, 7],\n",
       "        [4, 4, 1],\n",
       "        [1, 5, 0]],\n",
       "\n",
       "       [[5, 4, 3],\n",
       "        [7, 8, 3],\n",
       "        [5, 8, 4]],\n",
       "\n",
       "       [[7, 8, 1],\n",
       "        [7, 2, 7],\n",
       "        [7, 1, 0]],\n",
       "\n",
       "       [[0, 5, 0],\n",
       "        [0, 2, 3],\n",
       "        [3, 3, 6]],\n",
       "\n",
       "       [[5, 8, 6],\n",
       "        [1, 1, 6],\n",
       "        [7, 7, 5]]])"
      ]
     },
     "execution_count": 219,
     "metadata": {},
     "output_type": "execute_result"
    }
   ],
   "source": [
    "generate_lexicons(9, (3, 3), 100)"
   ]
  },
  {
   "cell_type": "code",
   "execution_count": 220,
   "metadata": {},
   "outputs": [],
   "source": [
    "# def generate_lexicons(N, shape, n):\n",
    "#     # sample a shape numpy array with N integers n times\n",
    "#     return np.random.randint(0, N, (n, *shape))"
   ]
  },
  {
   "cell_type": "code",
   "execution_count": 221,
   "metadata": {},
   "outputs": [],
   "source": [
    "class BaseRSA:\n",
    "    def __init__(self, alpha, prior):\n",
    "        self.alpha = alpha\n",
    "        self.prior = prior\n",
    "\n",
    "    @staticmethod\n",
    "    def safelog(vals):\n",
    "        with np.errstate(divide='ignore'):\n",
    "            return np.log(vals)\n",
    "        \n",
    "    @staticmethod\n",
    "    def normalize(vals):\n",
    "        return np.nan_to_num(vals / np.sum(vals, axis=-1, keepdims=True))\n",
    "        \n",
    "    @staticmethod\n",
    "    def binary_language(L):\n",
    "        max_labels = np.max([np.max(subarray) for subarray in L]) + 1\n",
    "        binary_arrays = []\n",
    "        for subarray in L:\n",
    "            x = max_labels\n",
    "            y = np.prod(subarray.shape)\n",
    "            binary_array = np.zeros((x, y), dtype=np.uint8)\n",
    "            for i, row in enumerate(subarray):\n",
    "                for j, val in enumerate(row):\n",
    "                    binary_array[val, i * subarray.shape[1] + j] = 1\n",
    "            binary_arrays.append(binary_array)\n",
    "        return np.array(binary_arrays)\n",
    "    \n",
    "    @staticmethod\n",
    "    def informativeness(L):\n",
    "        inf_arrays = []\n",
    "        for subarray in L:\n",
    "            unique_labels = np.unique(subarray)\n",
    "            inf_p = np.zeros((len(unique_labels), subarray.size))\n",
    "            for c in unique_labels:\n",
    "                coords = np.argwhere(subarray == c)\n",
    "                for i, m in enumerate(list(np.ndindex(subarray.shape))):\n",
    "                    for n in coords:\n",
    "                        inf_p[c, i] += distance.euclidean(m, n)\n",
    "            inf_arrays.append(inf_p)\n",
    "        return np.array(inf_arrays)\n",
    "\n",
    "    def L_0(self, L):\n",
    "        '''Literal listener'''\n",
    "        binary_lang = self.binary_language(L)\n",
    "        return self.normalize(binary_lang * self.prior * self.informativeness(L))\n",
    "    \n",
    "    def S_p(self, L):\n",
    "        return self.normalize(np.exp(self.alpha * (self.safelog(self.L_0(L).transpose(0, 2, 1)))))\n",
    "    \n",
    "    def L_p(self, L):\n",
    "        return self.normalize((self.S_p(L).transpose(0, 2, 1) * self.prior * self.informativeness(L)))\n"
   ]
  },
  {
   "cell_type": "code",
   "execution_count": 222,
   "metadata": {},
   "outputs": [],
   "source": [
    "a = BaseRSA(1, np.ones(4) / 4)"
   ]
  },
  {
   "cell_type": "code",
   "execution_count": 223,
   "metadata": {},
   "outputs": [
    {
     "data": {
      "text/plain": [
       "array([[[0, 0],\n",
       "        [1, 1]],\n",
       "\n",
       "       [[1, 0],\n",
       "        [1, 1]]])"
      ]
     },
     "execution_count": 223,
     "metadata": {},
     "output_type": "execute_result"
    }
   ],
   "source": [
    "L = generate_lexicons(2, (2, 2), 2)\n",
    "L"
   ]
  },
  {
   "cell_type": "code",
   "execution_count": 224,
   "metadata": {},
   "outputs": [
    {
     "data": {
      "text/plain": [
       "array([[1.        , 0.        , 1.41421356, 1.        ],\n",
       "       [2.41421356, 3.41421356, 2.        , 2.41421356]])"
      ]
     },
     "execution_count": 224,
     "metadata": {},
     "output_type": "execute_result"
    }
   ],
   "source": [
    "a.informativeness(L)[1]"
   ]
  },
  {
   "cell_type": "code",
   "execution_count": 225,
   "metadata": {},
   "outputs": [
    {
     "data": {
      "text/plain": [
       "array([[[0.5       , 0.5       , 0.        , 0.        ],\n",
       "        [0.        , 0.        , 0.5       , 0.5       ]],\n",
       "\n",
       "       [[0.        , 0.        , 0.        , 0.        ],\n",
       "        [0.35355339, 0.        , 0.29289322, 0.35355339]]])"
      ]
     },
     "execution_count": 225,
     "metadata": {},
     "output_type": "execute_result"
    }
   ],
   "source": [
    "a.L_p(L)"
   ]
  },
  {
   "cell_type": "code",
   "execution_count": 226,
   "metadata": {},
   "outputs": [],
   "source": [
    "import numpy as np\n",
    "from scipy.spatial import distance\n",
    "\n",
    "class BaseRSA:\n",
    "    def __init__(self, alpha, prior):\n",
    "        self.alpha = alpha\n",
    "        self.prior = prior\n",
    "\n",
    "    @staticmethod\n",
    "    def safelog(vals):\n",
    "        with np.errstate(divide='ignore'):\n",
    "            return np.log(vals)\n",
    "        \n",
    "    @staticmethod\n",
    "    def binary_language(L):\n",
    "        max_labels = np.max([np.max(subarray) for subarray in L]) + 1\n",
    "        binary_arrays = []\n",
    "        for subarray in L:\n",
    "            x = max_labels\n",
    "            y = np.prod(subarray.shape)\n",
    "            binary_array = np.zeros((x, y), dtype=np.uint8)\n",
    "            for i, row in enumerate(subarray):\n",
    "                for j, val in enumerate(row):\n",
    "                    binary_array[val, i * subarray.shape[1] + j] = 1\n",
    "            binary_arrays.append(binary_array)\n",
    "        return np.array(binary_arrays)\n",
    "    \n",
    "    @staticmethod\n",
    "    def normalize(vals):\n",
    "        return np.nan_to_num(vals / np.sum(vals, axis=-1, keepdims=True))\n",
    "    \n",
    "    @staticmethod\n",
    "    def informativeness(L):\n",
    "        inf_arrays = []\n",
    "        for subarray in L:\n",
    "            inf_p = np.zeros(subarray.shape)\n",
    "            unique_labels = np.unique(subarray)\n",
    "            for c in unique_labels:\n",
    "                coords = np.argwhere(subarray == c)\n",
    "                for m in list(np.ndindex(subarray.shape)):\n",
    "                    for n in coords:\n",
    "                        inf_p[m[0], m[1]] += distance.euclidean(m, n)\n",
    "            inf_arrays.append(inf_p.flatten())\n",
    "        return np.expand_dims(np.array(inf_arrays), axis=1)\n",
    "\n",
    "    def L_0(self, L):\n",
    "        '''Literal listener'''\n",
    "        return self.normalize(self.binary_language(L) * self.informativeness(L) * self.prior) \n",
    "    # \n",
    "    \n",
    "    def S_p(self, L):\n",
    "        return self.normalize(np.exp(self.alpha * (self.safelog(self.L_0(L).transpose(0, 2, 1)))))\n",
    "    \n",
    "    def L_p(self, L):\n",
    "        return self.normalize((self.S_p(L).transpose(0, 2, 1) * self.prior))\n"
   ]
  },
  {
   "cell_type": "code",
   "execution_count": 227,
   "metadata": {},
   "outputs": [],
   "source": [
    "L = generate_lexicons(2, (2, 2), 5)"
   ]
  },
  {
   "cell_type": "code",
   "execution_count": 228,
   "metadata": {},
   "outputs": [
    {
     "data": {
      "text/plain": [
       "array([[[1, 1],\n",
       "        [1, 1]],\n",
       "\n",
       "       [[0, 1],\n",
       "        [1, 0]],\n",
       "\n",
       "       [[1, 0],\n",
       "        [0, 0]],\n",
       "\n",
       "       [[1, 0],\n",
       "        [1, 0]],\n",
       "\n",
       "       [[0, 0],\n",
       "        [1, 0]]])"
      ]
     },
     "execution_count": 228,
     "metadata": {},
     "output_type": "execute_result"
    }
   ],
   "source": [
    "L"
   ]
  },
  {
   "cell_type": "code",
   "execution_count": 229,
   "metadata": {},
   "outputs": [],
   "source": [
    "rsa = BaseRSA(10, np.ones(4) / 4)"
   ]
  },
  {
   "cell_type": "code",
   "execution_count": 230,
   "metadata": {},
   "outputs": [
    {
     "data": {
      "text/plain": [
       "array([[[0.        , 0.        , 0.        , 0.        ],\n",
       "        [0.25      , 0.25      , 0.25      , 0.25      ]],\n",
       "\n",
       "       [[0.5       , 0.        , 0.        , 0.5       ],\n",
       "        [0.        , 0.5       , 0.5       , 0.        ]],\n",
       "\n",
       "       [[0.        , 0.33333333, 0.33333333, 0.33333333],\n",
       "        [1.        , 0.        , 0.        , 0.        ]],\n",
       "\n",
       "       [[0.        , 0.5       , 0.        , 0.5       ],\n",
       "        [0.5       , 0.        , 0.5       , 0.        ]],\n",
       "\n",
       "       [[0.33333333, 0.33333333, 0.        , 0.33333333],\n",
       "        [0.        , 0.        , 1.        , 0.        ]]])"
      ]
     },
     "execution_count": 230,
     "metadata": {},
     "output_type": "execute_result"
    }
   ],
   "source": [
    "rsa.L_p(L)"
   ]
  },
  {
   "cell_type": "code",
   "execution_count": 231,
   "metadata": {},
   "outputs": [],
   "source": [
    "class Agent(BaseRSA):\n",
    "    def __init__(self, alpha, prior, N, shape, n):\n",
    "        super().__init__(alpha, prior)\n",
    "        self.Lexicons = generate_lexicons(N=N, shape=shape, n=n)\n",
    "        self.prob_lexicon = np.ones(len(self.Lexicons)) / len(self.Lexicons)\n",
    "        self.n_words = N\n",
    "        self.n_meanings = shape[0] * shape[1]\n",
    "\n",
    "        self.degree_of_convexity = self.normalize(degree_of_convexity(self.Lexicons))\n",
    "    \n",
    "    def speaker(self, m):\n",
    "        lexicon_idx = np.random.choice(np.arange(len(self.Lexicons)), p=self.prob_lexicon)\n",
    "        # print(self.S_p(self.Lexicons)[lexicon_idx][m,:])\n",
    "        # return self.S_p(self.Lexicons, c)[lexicon_idx][m].argmax()\n",
    "        return np.random.choice(np.arange(self.n_words), p=self.S_p(self.Lexicons)[lexicon_idx][m])\n",
    "    \n",
    "    def listener(self, w):\n",
    "        # index of the lexicon with the highest probability given prob_lexicon\n",
    "        lexicon_idx = np.random.choice(np.arange(len(self.Lexicons)), p=self.prob_lexicon)\n",
    "        if np.sum(self.L_p(self.Lexicons)[lexicon_idx][w]) < 1:\n",
    "            return np.random.choice(np.arange(self.n_meanings), p=[1 / self.n_meanings] * self.n_meanings)\n",
    "        else:\n",
    "            return np.random.choice(np.arange(self.n_meanings), p=self.L_p(self.Lexicons)[lexicon_idx][w])\n",
    "\n",
    "    def update(self, w, m, correct, role):\n",
    "        # self.prob_lexicon = self.normalize((self.degree_of_convexity ** 1/0.1) * self.prob_lexicon + NOISE)\n",
    "        if role == \"speaker\":\n",
    "            if correct:\n",
    "                self.prob_lexicon = self.normalize(self.S_p(self.Lexicons)[:, m, w] * self.prob_lexicon + NOISE)\n",
    "            else:\n",
    "                self.prob_lexicon = self.normalize(self.S_p(self.Lexicons)[:, m, 1 - w] * self.prob_lexicon + NOISE)\n",
    "        elif role == \"listener\":\n",
    "            if correct:\n",
    "                self.prob_lexicon = self.normalize(self.L_p(self.Lexicons)[:, w, m] \n",
    "                * self.prob_lexicon + NOISE)\n",
    "            else:\n",
    "                meanings = range(self.n_meanings)\n",
    "                for meaning in meanings:\n",
    "                    if meaning != m:\n",
    "                        self.prob_lexicon = self.normalize(self.L_p(self.Lexicons)[:, w, meaning]\n",
    "                        * self.prob_lexicon + NOISE)"
   ]
  },
  {
   "cell_type": "code",
   "execution_count": 232,
   "metadata": {},
   "outputs": [],
   "source": [
    "# 9 values with equal probability\n",
    "prior = np.ones(4) / 4"
   ]
  },
  {
   "cell_type": "code",
   "execution_count": 233,
   "metadata": {},
   "outputs": [],
   "source": [
    "a = Agent(alpha=1, prior=prior, N=2, shape=(2, 2), n=10)"
   ]
  },
  {
   "cell_type": "code",
   "execution_count": 234,
   "metadata": {},
   "outputs": [
    {
     "data": {
      "text/plain": [
       "0"
      ]
     },
     "execution_count": 234,
     "metadata": {},
     "output_type": "execute_result"
    }
   ],
   "source": [
    "a.speaker(3)"
   ]
  },
  {
   "cell_type": "code",
   "execution_count": 235,
   "metadata": {},
   "outputs": [],
   "source": [
    "class Experiment:\n",
    "    def __init__(self, alpha, prior, shape, n, n_iter, n_rounds, N):\n",
    "        self.n_iter = n_iter\n",
    "        self.n_rounds = n_rounds\n",
    "\n",
    "        self.logs = defaultdict(lambda: defaultdict(dict))\n",
    "        \n",
    "        self.group_posterior = []\n",
    "        self.lexicons = []\n",
    "\n",
    "        self.alpha = alpha\n",
    "        self.prior = prior\n",
    "\n",
    "        self.shape = shape\n",
    "        self.n = n\n",
    "        self.N = N\n",
    "\n",
    "    def sample_meaning(self):\n",
    "        return np.random.choice([i for i in range(self.shape[0] * self.shape[1])])\n",
    "\n",
    "    def one_round(self, a, b, m, i, r):\n",
    "        w = a.speaker(m)\n",
    "        g = b.listener(w)\n",
    "\n",
    "        a.update(w, m, m == g, \"speaker\")\n",
    "        b.update(w, m, m == g, \"listener\")\n",
    "\n",
    "        self.logs[i][r]['word'] = w\n",
    "        self.logs[i][r]['guess'] = g\n",
    "        self.logs[i][r]['correct'] = 1 if (m == g) else 0\n",
    "    \n",
    "    def run(self):\n",
    "        for i in range(self.n_iter):\n",
    "            agents = [Agent(alpha=self.alpha, prior=self.prior, N=self.N, shape=self.shape, n=self.n),\n",
    "                      Agent(alpha=self.alpha, prior=self.prior, N=self.N, shape=self.shape, n=self.n)]\n",
    "\n",
    "            for r in range(self.n_rounds):\n",
    "                m = self.sample_meaning()\n",
    "                self.logs[i][r]['meaning'] = m\n",
    "                if r % 2 == 0:\n",
    "                    self.one_round(agents[0], \n",
    "                                   agents[1], \n",
    "                                   m, i, r)\n",
    "                else:\n",
    "                    self.one_round(agents[1], \n",
    "                                   agents[0], \n",
    "                                    m, i, r)\n",
    "            \n",
    "            self.group_posterior.append(agents[0].prob_lexicon)\n",
    "            self.group_posterior.append(agents[1].prob_lexicon)\n",
    "\n",
    "            self.lexicons.append(agents[0].Lexicons)\n",
    "            self.lexicons.append(agents[1].Lexicons)\n",
    "    \n",
    "                        \n",
    "    def save(self, rd=False):\n",
    "        df = pd.DataFrame.from_dict({(i, r): self.logs[i][r]\n",
    "                                        for i in self.logs.keys()\n",
    "                                        for r in self.logs[i].keys()},\n",
    "                                        orient='index').reset_index()\n",
    "        df.columns = ['trial', 'round', 'meaning', 'word',\n",
    "                      'guess', 'correct']\n",
    "        if not rd:\n",
    "            df.to_csv(f'src/data/logs/logs-{self.n_iter}-{self.model}-{self.n_rounds}.csv', index=False)\n",
    "        else:\n",
    "            return df"
   ]
  },
  {
   "cell_type": "code",
   "execution_count": 238,
   "metadata": {},
   "outputs": [],
   "source": [
    "a = Experiment(alpha=1, \n",
    "               shape=(3, 3), \n",
    "               n=100, \n",
    "               n_iter=1, \n",
    "               n_rounds=50,\n",
    "               prior= np.ones(9) / 9, \n",
    "               N=4)"
   ]
  },
  {
   "cell_type": "code",
   "execution_count": 239,
   "metadata": {},
   "outputs": [],
   "source": [
    "a.run()"
   ]
  },
  {
   "cell_type": "code",
   "execution_count": 240,
   "metadata": {},
   "outputs": [],
   "source": [
    "df = a.save(rd=True)"
   ]
  },
  {
   "cell_type": "code",
   "execution_count": 241,
   "metadata": {},
   "outputs": [],
   "source": [
    "df['rolling_correct'] = df.groupby('trial')['correct'].rolling(5).mean().reset_index(0, drop=True)"
   ]
  },
  {
   "cell_type": "code",
   "execution_count": 242,
   "metadata": {},
   "outputs": [
    {
     "data": {
      "text/plain": [
       "0.12"
      ]
     },
     "execution_count": 242,
     "metadata": {},
     "output_type": "execute_result"
    }
   ],
   "source": [
    "df['correct'].mean()"
   ]
  },
  {
   "cell_type": "code",
   "execution_count": 243,
   "metadata": {},
   "outputs": [
    {
     "data": {
      "image/png": "[encoded data removed]",
      "text/plain": [
       "<Figure size 700x300 with 1 Axes>"
      ]
     },
     "metadata": {},
     "output_type": "display_data"
    }
   ],
   "source": [
    "# plot rolling mean \n",
    "\n",
    "plt.figure(figsize=(7, 3))\n",
    "sns.lineplot(data=df, x='round', y='rolling_correct')\n",
    "plt.ylim(0, 1)\n",
    "plt.show()"
   ]
  },
  {
   "cell_type": "code",
   "execution_count": 205,
   "metadata": {},
   "outputs": [
    {
     "data": {
      "text/plain": [
       "4096"
      ]
     },
     "execution_count": 205,
     "metadata": {},
     "output_type": "execute_result"
    }
   ],
   "source": [
    "calculate_upper_bound(4, (3, 3))"
   ]
  }
 ],
 "metadata": {
  "kernelspec": {
   "display_name": "Python 3",
   "language": "python",
   "name": "python3"
  },
  "language_info": {
   "codemirror_mode": {
    "name": "ipython",
    "version": 3
   },
   "file_extension": ".py",
   "mimetype": "text/x-python",
   "name": "python",
   "nbconvert_exporter": "python",
   "pygments_lexer": "ipython3",
   "version": "3.11.2"
  }
 },
 "nbformat": 4,
 "nbformat_minor": 2
}
